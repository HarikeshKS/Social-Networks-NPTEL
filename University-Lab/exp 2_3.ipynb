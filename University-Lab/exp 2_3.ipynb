{
 "cells": [
  {
   "cell_type": "code",
   "execution_count": 1,
   "metadata": {},
   "outputs": [
    {
     "name": "stdout",
     "output_type": "stream",
     "text": [
      "{1: 0.16360879197572564, 2: 0.1502450516578297, 3: 0.10543541985178148, 4: 0.08071073651466315, 5: 0.16360879197572564, 6: 0.1502450516578297, 7: 0.10543541985178148, 8: 0.08071073651466315}\n",
      "\n",
      "Harikesh Kumar Sharma\n",
      "21BCS2127\n",
      "\n",
      "Node: 1 PageRank: 0.16360879197572564\n",
      "Node: 2 PageRank: 0.1502450516578297\n",
      "Node: 3 PageRank: 0.10543541985178148\n",
      "Node: 4 PageRank: 0.08071073651466315\n",
      "Node: 5 PageRank: 0.16360879197572564\n",
      "Node: 6 PageRank: 0.1502450516578297\n",
      "Node: 7 PageRank: 0.10543541985178148\n",
      "Node: 8 PageRank: 0.08071073651466315\n"
     ]
    }
   ],
   "source": [
    "import networkx as nx\n",
    "\n",
    "# Create a directed graph representing the web page and its links\n",
    "G = nx.DiGraph()\n",
    "G.add_edges_from([(1, 2), (1, 3), (2, 1), (3, 2), (3, 4),(5, 6), (5, 7), (6, 5), (7, 6), (7, 8)])\n",
    "\n",
    "# Calculate the PageRank\n",
    "pagerank = nx.pagerank(G)\n",
    "print(pagerank)\n",
    "\n",
    "# Print the PageRank values\n",
    "print(\"\\nHarikesh Kumar Sharma\\n21BCS2127\\n\")\n",
    "for node, value in pagerank.items():\n",
    "    print(\"Node:\", node, \"PageRank:\", value)"
   ]
  }
 ],
 "metadata": {
  "kernelspec": {
   "display_name": "Python 3",
   "language": "python",
   "name": "python3"
  },
  "language_info": {
   "codemirror_mode": {
    "name": "ipython",
    "version": 3
   },
   "file_extension": ".py",
   "mimetype": "text/x-python",
   "name": "python",
   "nbconvert_exporter": "python",
   "pygments_lexer": "ipython3",
   "version": "3.11.2"
  },
  "orig_nbformat": 4
 },
 "nbformat": 4,
 "nbformat_minor": 2
}
