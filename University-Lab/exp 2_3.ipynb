{
 "cells": [
  {
   "cell_type": "code",
   "execution_count": 3,
   "metadata": {},
   "outputs": [
    {
     "name": "stdout",
     "output_type": "stream",
     "text": [
      "\n",
      "Harikesh Kumar Sharma\n",
      "21BCS2127\n",
      "\n",
      "Node: 1 PageRank: 0.32721865083704227\n",
      "Node: 2 PageRank: 0.3004896430721129\n",
      "Node: 3 PageRank: 0.21086953619809864\n",
      "Node: 4 PageRank: 0.1614221698927461\n"
     ]
    }
   ],
   "source": [
    "import networkx as nx\n",
    "\n",
    "# Create a directed graph representing the web page and its links\n",
    "G = nx.DiGraph()\n",
    "G.add_edges_from([(1, 2), (1, 3), (2, 1), (3, 2), (3, 4)])\n",
    "\n",
    "# Calculate the PageRank\n",
    "pagerank = nx.pagerank(G)\n",
    "\n",
    "# Print the PageRank values\n",
    "print(\"\\nHarikesh Kumar Sharma\\n21BCS2127\\n\")\n",
    "for node, value in pagerank.items():\n",
    "    print(\"Node:\", node, \"PageRank:\", value)"
   ]
  }
 ],
 "metadata": {
  "kernelspec": {
   "display_name": "Python 3",
   "language": "python",
   "name": "python3"
  },
  "language_info": {
   "codemirror_mode": {
    "name": "ipython",
    "version": 3
   },
   "file_extension": ".py",
   "mimetype": "text/x-python",
   "name": "python",
   "nbconvert_exporter": "python",
   "pygments_lexer": "ipython3",
   "version": "3.11.2"
  },
  "orig_nbformat": 4
 },
 "nbformat": 4,
 "nbformat_minor": 2
}
