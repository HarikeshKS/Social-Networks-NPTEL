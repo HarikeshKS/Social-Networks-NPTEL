{
 "cells": [
  {
   "cell_type": "code",
   "execution_count": 2,
   "metadata": {},
   "outputs": [
    {
     "name": "stdout",
     "output_type": "stream",
     "text": [
      "Original Network Connectivity: 1\n",
      "Updated Network Connectivity: 0\n",
      "Connectivity Impact: 1\n",
      "Number of Disconnected Components: 2\n"
     ]
    }
   ],
   "source": [
    "import networkx as nx\n",
    "\n",
    "# Create a graph representing the network\n",
    "G = nx.Graph()\n",
    "\n",
    "G.add_edges_from([(1, 2), (1, 3), (2, 3), (3, 4), (4, 5)])\n",
    "\n",
    "# Calculate the original network connectivity\n",
    "original_connectivity = nx.node_connectivity(G)\n",
    "\n",
    "# Remove a node from the network\n",
    "G.remove_node(3)\n",
    "\n",
    "# Calculate the updated network connectivity after node removal\n",
    "updated_connectivity = nx.node_connectivity(G)\n",
    "\n",
    "# Measure the impact on network connectivity\n",
    "connectivity_impact = original_connectivity - updated_connectivity\n",
    "\n",
    "# Measure the network robustness based on the number of disconnected components\n",
    "num_components = nx.number_connected_components(G)\n",
    "\n",
    "# Print the results\n",
    "print(\"Original Network Connectivity:\", original_connectivity)\n",
    "print(\"Updated Network Connectivity:\", updated_connectivity)\n",
    "print(\"Connectivity Impact:\", connectivity_impact)\n",
    "print(\"Number of Disconnected Components:\", num_components)"
   ]
  }
 ],
 "metadata": {
  "kernelspec": {
   "display_name": "Python 3",
   "language": "python",
   "name": "python3"
  },
  "language_info": {
   "codemirror_mode": {
    "name": "ipython",
    "version": 3
   },
   "file_extension": ".py",
   "mimetype": "text/x-python",
   "name": "python",
   "nbconvert_exporter": "python",
   "pygments_lexer": "ipython3",
   "version": "3.11.2"
  },
  "orig_nbformat": 4
 },
 "nbformat": 4,
 "nbformat_minor": 2
}
