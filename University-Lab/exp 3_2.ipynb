{
 "cells": [
  {
   "cell_type": "code",
   "execution_count": 2,
   "metadata": {},
   "outputs": [
    {
     "name": "stdout",
     "output_type": "stream",
     "text": [
      "\n",
      "Harikesh Kumar Sharma\n",
      "21BCS2127\n",
      "\n",
      "Node: 1 PageRank: 0.17089585882660838\n",
      "Node: 2 PageRank: 0.15693630450187815\n",
      "Node: 3 PageRank: 0.11013074000131533\n",
      "Node: 4 PageRank: 0.08430556450056284\n"
     ]
    }
   ],
   "source": [
    "import networkx as nx\n",
    "\n",
    "# Create a directed graph representing the web page and its links\n",
    "G = nx.DiGraph()\n",
    "G.add_edges_from([(1, 2), (1, 3), (2, 1), (3, 2), (3, 4)])\n",
    "\n",
    "# Set the damping factor (typically 0.85)\n",
    "damping_factor = 0.85\n",
    "\n",
    "# Set the maximum number of iterations for convergence\n",
    "max_iterations = 100\n",
    "\n",
    "# Initialize the PageRank dictionary with initial scores\n",
    "pagerank = {node: 1 / len(G) for node in G.nodes()}\n",
    "\n",
    "# Perform PageRank iterations\n",
    "for _ in range(max_iterations):\n",
    "    new_pagerank = {}\n",
    "    for node in G.nodes():\n",
    "        rank = (1 - damping_factor) / len(G)\n",
    "        for neighbor in G.predecessors(node):\n",
    "            rank += damping_factor * (pagerank[neighbor] / len(G.out_edges(neighbor)))\n",
    "        new_pagerank[node] = rank\n",
    "    pagerank = new_pagerank\n",
    "\n",
    "# Print the PageRank scores\n",
    "print(\"\\nHarikesh Kumar Sharma\\n21BCS2127\\n\")\n",
    "for node, score in pagerank.items():\n",
    "    print(\"Node:\", node, \"PageRank:\", score)"
   ]
  }
 ],
 "metadata": {
  "kernelspec": {
   "display_name": "Python 3",
   "language": "python",
   "name": "python3"
  },
  "language_info": {
   "codemirror_mode": {
    "name": "ipython",
    "version": 3
   },
   "file_extension": ".py",
   "mimetype": "text/x-python",
   "name": "python",
   "nbconvert_exporter": "python",
   "pygments_lexer": "ipython3",
   "version": "3.11.2"
  }
 },
 "nbformat": 4,
 "nbformat_minor": 2
}
