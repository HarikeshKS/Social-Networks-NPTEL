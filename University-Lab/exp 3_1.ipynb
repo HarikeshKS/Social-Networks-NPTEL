{
 "cells": [
  {
   "cell_type": "code",
   "execution_count": 3,
   "metadata": {},
   "outputs": [
    {
     "name": "stdout",
     "output_type": "stream",
     "text": [
      "\n",
      "Harikesh Kumar Sharma\n",
      "21BCS2127\n",
      "\n",
      "Homophily Coefficient: nan\n"
     ]
    }
   ],
   "source": [
    "import networkx as nx\n",
    "\n",
    "# Create a graph representing the network\n",
    "G = nx.Graph()\n",
    "G.add_edges_from([(1, 2), (1, 3), (2, 3), (3, 4), (4, 5)])\n",
    "\n",
    "# Define attributes for nodes\n",
    "attributes = {1: 'A', 2: 'A', 3: 'B', 4: 'B', 5: 'A'}\n",
    "\n",
    "# Calculate the observed homophily coefficient\n",
    "homophily_coefficient = nx.attribute_assortativity_coefficient(G, 'attributes')\n",
    "\n",
    "# Print the result\n",
    "print(\"\\nHarikesh Kumar Sharma\\n21BCS2127\\n\")\n",
    "print(\"Homophily Coefficient:\", homophily_coefficient)"
   ]
  }
 ],
 "metadata": {
  "kernelspec": {
   "display_name": "Python 3",
   "language": "python",
   "name": "python3"
  },
  "language_info": {
   "codemirror_mode": {
    "name": "ipython",
    "version": 3
   },
   "file_extension": ".py",
   "mimetype": "text/x-python",
   "name": "python",
   "nbconvert_exporter": "python",
   "pygments_lexer": "ipython3",
   "version": "3.11.2"
  }
 },
 "nbformat": 4,
 "nbformat_minor": 2
}
