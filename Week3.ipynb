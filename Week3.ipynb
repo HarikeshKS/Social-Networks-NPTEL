{
 "cells": [
  {
   "cell_type": "code",
   "execution_count": 1,
   "metadata": {},
   "outputs": [],
   "source": [
    "# Learned about triads and triad closure, and the number of edges required to say that a given graph is connected, that is, nlogn number of edges if n represents the number of vertices in the particular graph.\n",
    "# Also learned about local bridges in graphs as relation of it with triads and association with the concept of weak ties.\n",
    "# it is more of theory till now."
   ]
  },
  {
   "cell_type": "code",
   "execution_count": 12,
   "metadata": {},
   "outputs": [
    {
     "name": "stdout",
     "output_type": "stream",
     "text": [
      "( [0, 1, 2, 3, 4] ),( [5, 6, 7, 8, 9] )\n"
     ]
    }
   ],
   "source": [
    "import networkx as nx\n",
    "import itertools\n",
    "\n",
    "# aim is to divide the graph into two partitions (communities).\n",
    "\n",
    "\n",
    "def communities_brute(G):\n",
    "    nodes = G.nodes()\n",
    "    n = G.number_of_nodes()\n",
    "    # get all the combinations of the nodes that may fall in a community\n",
    "\n",
    "    first_community = []\n",
    "    for i in range(1, n):\n",
    "        comb = [list(x) for x in itertools.combinations(nodes, i)]\n",
    "        first_community.extend(comb)\n",
    "\n",
    "    second_community = []\n",
    "    # to perform subtraction on lists, set is used.\n",
    "    for i in range(len(first_community)):\n",
    "        l = list(set(nodes) - set(first_community[i]))\n",
    "        second_community.append(l)\n",
    "    # If a division is good, then the number of intra-community edges should be high, and the number of inter-community edges should be less.\n",
    "    # Ṇow, which division is the best here?\n",
    "    num_intra_edges1 = []\n",
    "    num_intra_edges2 = []\n",
    "    num_inter_edges = []\n",
    "    # finding out the ratio for every division that we had made so far.\n",
    "    ratio = []    # ratio of number of intra/number of inter community edges\n",
    "    \n",
    "    for i in range(len(first_community)):\n",
    "        # G.subgraph(first_community[i])    # takes input as list of edges and returns a graph object, i.e., an induced subgraph\n",
    "        num_intra_edges1.append(G.subgraph(first_community[i]).number_of_edges())\n",
    "\n",
    "    for i in range(len(second_community)):\n",
    "        num_intra_edges2.append(G.subgraph(second_community[i]).number_of_edges())\n",
    "\n",
    "    e = G.number_of_edges()\n",
    "\n",
    "    for i in range(len(first_community)):\n",
    "        num_inter_edges.append(e - num_intra_edges1[i] - num_intra_edges2[i])\n",
    "    \n",
    "    # Find out the ratio\n",
    "    for i in range(len(first_community)):\n",
    "        ratio.append((float)(num_intra_edges1[i] + num_intra_edges2[i])/num_inter_edges[i])\n",
    "    \n",
    "    max_value =max(ratio)\n",
    "    max_index = ratio.index(max_value)\n",
    "\n",
    "    print('(',first_community[max_index], '),(', second_community[max_index],')')\n",
    "\n",
    "G = nx.barbell_graph(5,0)\n",
    "communities_brute(G)"
   ]
  },
  {
   "cell_type": "code",
   "execution_count": 5,
   "metadata": {},
   "outputs": [
    {
     "name": "stdout",
     "output_type": "stream",
     "text": [
      "[1, 2]\n",
      "[1, 3]\n",
      "[1, 4]\n",
      "[2, 3]\n",
      "[2, 4]\n",
      "[3, 4]\n",
      "(1, 2, 3)\n",
      "(1, 2, 4)\n",
      "(1, 3, 4)\n",
      "(2, 3, 4)\n"
     ]
    }
   ],
   "source": [
    "# Just to know about the itertools library.\n",
    "import itertools\n",
    "# two parameters, first is the list of combinations and second is some number that is being passed which goes 1 to the length of the list.append\n",
    "itertools.combinations([1,2,3,4], 2)    # returns all the possible combinations out from the list of lenght 2.\n",
    "# the above function returns an object rather than a list.\n",
    "\n",
    "# returns list below:\n",
    "for i in itertools.combinations([1,2,3,4], 2):\n",
    "    print(list(i))\n",
    "\n",
    "# returns tuple below:\n",
    "for i in itertools.combinations([1,2,3,4], 3):\n",
    "    print(i)\n",
    "    "
   ]
  },
  {
   "cell_type": "code",
   "execution_count": null,
   "metadata": {},
   "outputs": [],
   "source": [
    "# Community detection using Girvan Newman Algorithm\n",
    "# Community detection using Gephi -- modularity"
   ]
  }
 ],
 "metadata": {
  "kernelspec": {
   "display_name": "Python 3",
   "language": "python",
   "name": "python3"
  },
  "language_info": {
   "codemirror_mode": {
    "name": "ipython",
    "version": 3
   },
   "file_extension": ".py",
   "mimetype": "text/x-python",
   "name": "python",
   "nbconvert_exporter": "python",
   "pygments_lexer": "ipython3",
   "version": "3.11.2"
  }
 },
 "nbformat": 4,
 "nbformat_minor": 2
}
